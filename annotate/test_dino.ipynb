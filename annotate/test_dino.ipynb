{
 "cells": [
  {
   "cell_type": "code",
   "execution_count": 3,
   "id": "4b64c5b3",
   "metadata": {},
   "outputs": [],
   "source": [
    "from transformers import GroundingDinoProcessor, GroundingDinoForObjectDetection\n",
    "from transformers import AutoProcessor, AutoModelForZeroShotObjectDetection\n",
    "from PIL import Image\n",
    "model = AutoModelForZeroShotObjectDetection.from_pretrained(\"IDEA-Research/grounding-dino-base\")\n",
    "processor = AutoProcessor.from_pretrained(\"IDEA-Research/grounding-dino-base\")\n"
   ]
  },
  {
   "cell_type": "code",
   "execution_count": 15,
   "id": "99f352fb",
   "metadata": {},
   "outputs": [],
   "source": [
    "device = torch.device(\"cuda\" if torch.cuda.is_available() else \"cpu\")\n",
    "model = model.to(device)"
   ]
  },
  {
   "cell_type": "code",
   "execution_count": 8,
   "id": "9cad5492",
   "metadata": {},
   "outputs": [],
   "source": [
    "import os\n",
    "import torch"
   ]
  },
  {
   "cell_type": "code",
   "execution_count": 9,
   "id": "c8b71ecc",
   "metadata": {},
   "outputs": [],
   "source": [
    "image_path=\"/storage/gpfs/data-store/projects/parking-data-ops/ws/shared/project-workspace/uic19759/BDD_control_lora/wandb/latest-run/files/media/images/validation_9064_ae741a286f2bf12e35f7.png\"\n",
    "output_dir=\"dino_out\"\n",
    "image = Image.open(image_path).convert(\"RGB\")\n",
    "original_width, original_height = image.size"
   ]
  },
  {
   "cell_type": "code",
   "execution_count": 7,
   "id": "43b960a6",
   "metadata": {},
   "outputs": [],
   "source": [
    "text_prompt = \"car\" # The object to detect [3]\n",
    "box_threshold = 0.35 # Confidence threshold for detection [2][4]\n",
    "text_threshold = 0.25 # Confidence threshold for label matching [2][4]"
   ]
  },
  {
   "cell_type": "code",
   "execution_count": 27,
   "id": "a2b4c079",
   "metadata": {},
   "outputs": [],
   "source": [
    "inputs = processor(images=image, text=text_prompt, return_tensors=\"pt\")"
   ]
  },
  {
   "cell_type": "code",
   "execution_count": 28,
   "id": "b4667810",
   "metadata": {},
   "outputs": [],
   "source": [
    "# Move tensor-type values to the device\n",
    "inputs = {key: value.to(device) if isinstance(value, torch.Tensor) else value for key, value in inputs.items()}"
   ]
  },
  {
   "cell_type": "code",
   "execution_count": 29,
   "id": "c6ce3d04",
   "metadata": {},
   "outputs": [],
   "source": [
    "\n",
    "# --- 5. Perform Prediction ---\n",
    "# Run inference\n",
    "with torch.no_grad():\n",
    "    outputs = model(**inputs)\n"
   ]
  },
  {
   "cell_type": "code",
   "execution_count": 31,
   "id": "2c3d4233",
   "metadata": {},
   "outputs": [
    {
     "data": {
      "text/plain": [
       "{'input_ids': tensor([[ 101, 2482,  102]], device='cuda:0'),\n",
       " 'token_type_ids': tensor([[0, 0, 0]], device='cuda:0'),\n",
       " 'attention_mask': tensor([[1, 1, 1]], device='cuda:0'),\n",
       " 'pixel_values': tensor([[[[-1.2788, -1.3473, -1.3987,  ..., -0.8849, -0.8849, -0.8849],\n",
       "           [-1.3130, -1.3644, -1.4329,  ..., -0.8849, -0.8849, -0.9020],\n",
       "           [-1.3473, -1.3987, -1.4672,  ..., -0.8849, -0.9020, -0.9192],\n",
       "           ...,\n",
       "           [-2.0665, -2.0665, -2.0665,  ..., -0.6965, -0.6794, -0.6623],\n",
       "           [-2.1008, -2.1008, -2.1008,  ..., -0.7993, -0.7308, -0.6794],\n",
       "           [-2.1179, -2.1179, -2.1179,  ..., -0.9020, -0.7822, -0.6794]],\n",
       " \n",
       "          [[-0.9328, -0.9678, -1.0028,  ..., -0.5476, -0.5826, -0.6001],\n",
       "           [-0.9503, -1.0028, -1.0553,  ..., -0.5476, -0.5826, -0.6001],\n",
       "           [-0.9678, -1.0378, -1.1253,  ..., -0.5651, -0.5826, -0.6001],\n",
       "           ...,\n",
       "           [-1.9657, -1.9832, -2.0007,  ..., -0.1275, -0.1275, -0.1275],\n",
       "           [-1.9482, -1.9832, -2.0182,  ..., -0.2675, -0.2325, -0.2150],\n",
       "           [-1.9482, -1.9832, -2.0357,  ..., -0.3725, -0.3200, -0.3025]],\n",
       " \n",
       "          [[-0.8458, -0.8807, -0.9330,  ..., -0.1661, -0.2184, -0.2532],\n",
       "           [-0.8458, -0.8807, -0.9504,  ..., -0.1661, -0.2184, -0.2358],\n",
       "           [-0.8284, -0.8981, -0.9678,  ..., -0.1835, -0.2010, -0.2184],\n",
       "           ...,\n",
       "           [-1.5953, -1.6127, -1.6476,  ...,  0.1128,  0.1128,  0.0953],\n",
       "           [-1.6302, -1.6302, -1.6650,  ..., -0.0441, -0.0267, -0.0267],\n",
       "           [-1.6476, -1.6476, -1.6650,  ..., -0.1835, -0.1487, -0.1312]]]],\n",
       "        device='cuda:0'),\n",
       " 'pixel_mask': tensor([[[1, 1, 1,  ..., 1, 1, 1],\n",
       "          [1, 1, 1,  ..., 1, 1, 1],\n",
       "          [1, 1, 1,  ..., 1, 1, 1],\n",
       "          ...,\n",
       "          [1, 1, 1,  ..., 1, 1, 1],\n",
       "          [1, 1, 1,  ..., 1, 1, 1],\n",
       "          [1, 1, 1,  ..., 1, 1, 1]]], device='cuda:0')}"
      ]
     },
     "execution_count": 31,
     "metadata": {},
     "output_type": "execute_result"
    }
   ],
   "source": [
    "inputs"
   ]
  },
  {
   "cell_type": "code",
   "execution_count": 30,
   "id": "d6ff4f6e",
   "metadata": {},
   "outputs": [
    {
     "ename": "AttributeError",
     "evalue": "'dict' object has no attribute 'input_ids'",
     "output_type": "error",
     "traceback": [
      "\u001b[31m---------------------------------------------------------------------------\u001b[39m",
      "\u001b[31mAttributeError\u001b[39m                            Traceback (most recent call last)",
      "\u001b[36mCell\u001b[39m\u001b[36m \u001b[39m\u001b[32mIn[30]\u001b[39m\u001b[32m, line 6\u001b[39m\n\u001b[32m      1\u001b[39m \u001b[38;5;66;03m# --- 6. Post-process Results ---\u001b[39;00m\n\u001b[32m      2\u001b[39m \u001b[38;5;66;03m# The post_process_grounded_object_detection function directly provides\u001b[39;00m\n\u001b[32m      3\u001b[39m \u001b[38;5;66;03m# bounding boxes in [x0, y0, x1, y1] format (top-left x, top-left y, bottom-right x, bottom-right y) [4][5]\u001b[39;00m\n\u001b[32m      4\u001b[39m results = processor.post_process_grounded_object_detection(\n\u001b[32m      5\u001b[39m     outputs,\n\u001b[32m----> \u001b[39m\u001b[32m6\u001b[39m     \u001b[43minputs\u001b[49m\u001b[43m.\u001b[49m\u001b[43minput_ids\u001b[49m,\n\u001b[32m      7\u001b[39m     box_threshold=box_threshold,\n\u001b[32m      8\u001b[39m     text_threshold=text_threshold,\n\u001b[32m      9\u001b[39m     target_sizes=[(original_height, original_width)] \u001b[38;5;66;03m# Pass original image size [4][5]\u001b[39;00m\n\u001b[32m     10\u001b[39m )\n",
      "\u001b[31mAttributeError\u001b[39m: 'dict' object has no attribute 'input_ids'"
     ]
    }
   ],
   "source": [
    "\n",
    "# --- 6. Post-process Results ---\n",
    "# The post_process_grounded_object_detection function directly provides\n",
    "# bounding boxes in [x0, y0, x1, y1] format (top-left x, top-left y, bottom-right x, bottom-right y) [4][5]\n",
    "results = processor.post_process_grounded_object_detection(\n",
    "    outputs,\n",
    "    inputs.input_ids,\n",
    "    box_threshold=box_threshold,\n",
    "    text_threshold=text_threshold,\n",
    "    target_sizes=[(original_height, original_width)] # Pass original image size [4][5]\n",
    ")\n"
   ]
  },
  {
   "cell_type": "code",
   "execution_count": 24,
   "id": "8201b262",
   "metadata": {},
   "outputs": [
    {
     "ename": "NameError",
     "evalue": "name 'results' is not defined",
     "output_type": "error",
     "traceback": [
      "\u001b[31m---------------------------------------------------------------------------\u001b[39m",
      "\u001b[31mNameError\u001b[39m                                 Traceback (most recent call last)",
      "\u001b[36mCell\u001b[39m\u001b[36m \u001b[39m\u001b[32mIn[24]\u001b[39m\u001b[32m, line 3\u001b[39m\n\u001b[32m      1\u001b[39m \u001b[38;5;66;03m# --- 7. Extract Coordinates and Save to JSON ---\u001b[39;00m\n\u001b[32m      2\u001b[39m \u001b[38;5;66;03m# Get results for the first (and only) image in the batch\u001b[39;00m\n\u001b[32m----> \u001b[39m\u001b[32m3\u001b[39m image_results = \u001b[43mresults\u001b[49m[\u001b[32m0\u001b[39m]\n\u001b[32m      4\u001b[39m car_boxes = []\n\u001b[32m      6\u001b[39m \u001b[38;5;66;03m# The 'labels' field contains the text prompt corresponding to the detected box [4][5]\u001b[39;00m\n",
      "\u001b[31mNameError\u001b[39m: name 'results' is not defined"
     ]
    }
   ],
   "source": [
    "\n",
    "# --- 7. Extract Coordinates and Save to JSON ---\n",
    "# Get results for the first (and only) image in the batch\n",
    "image_results = results[0]\n",
    "car_boxes = []\n",
    "\n",
    "# The 'labels' field contains the text prompt corresponding to the detected box [4][5]\n",
    "for score, label, box in zip(image_results[\"scores\"], image_results[\"labels\"], image_results[\"boxes\"]):\n",
    "    if label == text_prompt: # Filter for boxes specifically labeled as \"car\"\n",
    "        # Convert tensor coordinates to integers\n",
    "        box_coords = box.tolist()\n",
    "        # Format: [top_left_x, top_left_y, bottom_right_x, bottom_right_y]\n",
    "        car_boxes.append({\n",
    "            \"score\": score.item(),\n",
    "            \"top_left_x\": int(box_coords[0]),\n",
    "            \"top_left_y\": int(box_coords[1]),\n",
    "            \"bottom_right_x\": int(box_coords[2]),\n",
    "            \"bottom_right_y\": int(box_coords[3])\n",
    "        })\n",
    "\n",
    "# Create output directory if it doesn't exist\n",
    "os.makedirs(output_dir, exist_ok=True)\n",
    "\n",
    "# Generate JSON filename based on image filename\n",
    "base_filename = os.path.splitext(os.path.basename(image_path))[0]\n",
    "json_filename = os.path.join(output_dir, f\"{base_filename}_car_boxes.json\")\n",
    "\n",
    "# Save the coordinates to the JSON file\n",
    "with open(json_filename, 'w') as f:\n",
    "    json.dump(car_boxes, f, indent=4)\n",
    "\n",
    "print(f\"Detected {len(car_boxes)} cars in {image_path}.\")\n",
    "print(f\"Bounding box coordinates saved to {json_filename}\")"
   ]
  },
  {
   "cell_type": "code",
   "execution_count": null,
   "id": "cde35014",
   "metadata": {},
   "outputs": [],
   "source": []
  }
 ],
 "metadata": {
  "kernelspec": {
   "display_name": "venv",
   "language": "python",
   "name": "python3"
  },
  "language_info": {
   "codemirror_mode": {
    "name": "ipython",
    "version": 3
   },
   "file_extension": ".py",
   "mimetype": "text/x-python",
   "name": "python",
   "nbconvert_exporter": "python",
   "pygments_lexer": "ipython3",
   "version": "3.12.9"
  }
 },
 "nbformat": 4,
 "nbformat_minor": 5
}
